{
  "nbformat": 4,
  "nbformat_minor": 0,
  "metadata": {
    "colab": {
      "provenance": []
    },
    "kernelspec": {
      "name": "python3",
      "display_name": "Python 3"
    },
    "language_info": {
      "name": "python"
    }
  },
  "cells": [
    {
      "cell_type": "code",
      "source": [
        "import pandas as pd\n",
        "import numpy as np\n",
        "\n",
        "# Read the CSV file\n",
        "df = pd.read_csv('Indian_Domestic_Airline.csv', encoding='utf-8')\n",
        "\n",
        "# Display the first few rows and basic information about the dataset\n",
        "print(df.head())\n",
        "print(\"\\\n",
        "Dataset Info:\")\n",
        "print(df.info())"
      ],
      "metadata": {
        "colab": {
          "base_uri": "https://localhost:8080/"
        },
        "id": "tgwiCwEBM0CA",
        "outputId": "e0475c46-32bb-44f6-9978-dbb8d0837d6b"
      },
      "execution_count": null,
      "outputs": [
        {
          "output_type": "stream",
          "name": "stdout",
          "text": [
            "    AirLine_Name  Rating - 10                          Title  \\\n",
            "0  AirAsia India          6.0          \"crew were welcoming\"   \n",
            "1  AirAsia India          1.0     \"furious and disappointed\"   \n",
            "2  AirAsia India         10.0  \"amazing service and support\"   \n",
            "3  AirAsia India          1.0      \"Waste of time and money\"   \n",
            "4  AirAsia India          8.0   \"thumbs up to boarding crew\"   \n",
            "\n",
            "                     Name               Date  \\\n",
            "0                V Bakshi  14th October 2023   \n",
            "1                 G Oscar  14th October 2023   \n",
            "2             Rahul Verma  14th October 2023   \n",
            "3                 G Akron  14th October 2023   \n",
            "4  Sirajudeen Jawahar ali  14th October 2023   \n",
            "\n",
            "                                              Review Recommond  \n",
            "0  ✅ Trip Verified | I had booked this fare at a ...       yes  \n",
            "1  ✅ Trip Verified | I travel at least four times...        no  \n",
            "2  ✅ Trip Verified | Taking this opportunity to a...       yes  \n",
            "3  ✅ Trip Verified | The worst airlines in the hi...        no  \n",
            "4  ✅ Trip Verified |  Would like to give big thum...       yes  \n",
            "Dataset Info:\n",
            "<class 'pandas.core.frame.DataFrame'>\n",
            "RangeIndex: 2210 entries, 0 to 2209\n",
            "Data columns (total 7 columns):\n",
            " #   Column        Non-Null Count  Dtype  \n",
            "---  ------        --------------  -----  \n",
            " 0   AirLine_Name  2210 non-null   object \n",
            " 1   Rating - 10   2206 non-null   float64\n",
            " 2   Title         2210 non-null   object \n",
            " 3   Name          2210 non-null   object \n",
            " 4   Date          2210 non-null   object \n",
            " 5   Review        2210 non-null   object \n",
            " 6   Recommond     2210 non-null   object \n",
            "dtypes: float64(1), object(6)\n",
            "memory usage: 121.0+ KB\n",
            "None\n"
          ]
        }
      ]
    },
    {
      "cell_type": "code",
      "source": [
        "# Install required libraries\n",
        "%pip install nltk textblob\n",
        "\n",
        "import pandas as pd\n",
        "import nltk\n",
        "from nltk.sentiment import SentimentIntensityAnalyzer\n",
        "from textblob import TextBlob\n",
        "import matplotlib.pyplot as plt\n",
        "\n",
        "# Download necessary NLTK data\n",
        "nltk.download('vader_lexicon')\n",
        "\n",
        "# Load the dataset\n",
        "df = pd.read_csv('Indian_Domestic_Airline.csv', encoding='utf-8')\n",
        "\n",
        "# Initialize NLTK's SentimentIntensityAnalyzer\n",
        "sia = SentimentIntensityAnalyzer()\n",
        "\n",
        "# Function to get sentiment scores\n",
        "def get_sentiment_scores(text):\n",
        "    return sia.polarity_scores(text)\n",
        "\n",
        "# Apply sentiment analysis to the 'Review' column\n",
        "df['sentiment_scores'] = df['Review'].apply(get_sentiment_scores)\n",
        "\n",
        "# Extract compound sentiment score\n",
        "df['sentiment_compound'] = df['sentiment_scores'].apply(lambda x: x['compound'])\n",
        "\n",
        "# Categorize sentiment\n",
        "df['sentiment_category'] = df['sentiment_compound'].apply(lambda x: 'Positive' if x > 0 else ('Negative' if x < 0 else 'Neutral'))\n",
        "\n",
        "# Display the first few rows with sentiment analysis results\n",
        "print(df[['AirLine_Name', 'Rating - 10', 'Review', 'sentiment_compound', 'sentiment_category']].head())\n",
        "\n",
        "# Calculate average sentiment by airline\n",
        "avg_sentiment = df.groupby('AirLine_Name')['sentiment_compound'].mean().sort_values(ascending=False)\n",
        "\n",
        "# Plot average sentiment by airline\n",
        "plt.figure(figsize=(12, 6))\n",
        "avg_sentiment.plot(kind='bar')\n",
        "plt.title('Average Sentiment by Airline')\n",
        "plt.xlabel('Airline')\n",
        "plt.ylabel('Average Sentiment Score')\n",
        "plt.xticks(rotation=45)\n",
        "plt.tight_layout()\n",
        "plt.savefig('airline_sentiment.png')\n",
        "plt.close()\n",
        "\n",
        "# Calculate sentiment distribution\n",
        "sentiment_distribution = df['sentiment_category'].value_counts(normalize=True) * 100\n",
        "\n",
        "# Plot sentiment distribution\n",
        "plt.figure(figsize=(8, 6))\n",
        "sentiment_distribution.plot(kind='pie', autopct='%1.1f%%')\n",
        "plt.title('Sentiment Distribution')\n",
        "plt.ylabel('')\n",
        "plt.savefig('sentiment_distribution.png')\n",
        "plt.close()\n",
        "\n",
        "print(\"\\\n",
        "Average Sentiment by Airline:\")\n",
        "print(avg_sentiment)\n",
        "\n",
        "print(\"\\\n",
        "Sentiment Distribution:\")\n",
        "print(sentiment_distribution)\n",
        "\n",
        "print(\"\\\n",
        "Sentiment analysis completed. Plots saved as 'airline_sentiment.png' and 'sentiment_distribution.png'.\")"
      ],
      "metadata": {
        "colab": {
          "base_uri": "https://localhost:8080/"
        },
        "id": "JbVt9k3dM0Fv",
        "outputId": "7c2933ec-ee8d-4987-a8e8-62616eb35860"
      },
      "execution_count": null,
      "outputs": [
        {
          "output_type": "stream",
          "name": "stdout",
          "text": [
            "Requirement already satisfied: nltk in /usr/local/lib/python3.10/dist-packages (3.8.1)\n",
            "Requirement already satisfied: textblob in /usr/local/lib/python3.10/dist-packages (0.17.1)\n",
            "Requirement already satisfied: click in /usr/local/lib/python3.10/dist-packages (from nltk) (8.1.7)\n",
            "Requirement already satisfied: joblib in /usr/local/lib/python3.10/dist-packages (from nltk) (1.4.2)\n",
            "Requirement already satisfied: regex>=2021.8.3 in /usr/local/lib/python3.10/dist-packages (from nltk) (2024.9.11)\n",
            "Requirement already satisfied: tqdm in /usr/local/lib/python3.10/dist-packages (from nltk) (4.66.5)\n"
          ]
        },
        {
          "output_type": "stream",
          "name": "stderr",
          "text": [
            "[nltk_data] Downloading package vader_lexicon to /root/nltk_data...\n"
          ]
        },
        {
          "output_type": "stream",
          "name": "stdout",
          "text": [
            "    AirLine_Name  Rating - 10  \\\n",
            "0  AirAsia India          6.0   \n",
            "1  AirAsia India          1.0   \n",
            "2  AirAsia India         10.0   \n",
            "3  AirAsia India          1.0   \n",
            "4  AirAsia India          8.0   \n",
            "\n",
            "                                              Review  sentiment_compound  \\\n",
            "0  ✅ Trip Verified | I had booked this fare at a ...              0.7577   \n",
            "1  ✅ Trip Verified | I travel at least four times...             -0.9883   \n",
            "2  ✅ Trip Verified | Taking this opportunity to a...              0.9932   \n",
            "3  ✅ Trip Verified | The worst airlines in the hi...             -0.9186   \n",
            "4  ✅ Trip Verified |  Would like to give big thum...              0.3612   \n",
            "\n",
            "  sentiment_category  \n",
            "0           Positive  \n",
            "1           Negative  \n",
            "2           Positive  \n",
            "3           Negative  \n",
            "4           Positive  \n",
            "Average Sentiment by Airline:\n",
            "AirLine_Name\n",
            "Vistara              0.482264\n",
            "IndiGo               0.222067\n",
            "AirAsia India        0.037108\n",
            "SpiceJet            -0.125725\n",
            "Air India Express   -0.233326\n",
            "AirIndia            -0.237438\n",
            "Go First            -0.424025\n",
            "Name: sentiment_compound, dtype: float64\n",
            "Sentiment Distribution:\n",
            "sentiment_category\n",
            "Negative    52.714932\n",
            "Positive    46.787330\n",
            "Neutral      0.497738\n",
            "Name: proportion, dtype: float64\n",
            "Sentiment analysis completed. Plots saved as 'airline_sentiment.png' and 'sentiment_distribution.png'.\n"
          ]
        }
      ]
    },
    {
      "cell_type": "code",
      "source": [
        "from sklearn.linear_model import LinearRegression"
      ],
      "metadata": {
        "id": "t08qHTaRTJWc"
      },
      "execution_count": null,
      "outputs": []
    },
    {
      "cell_type": "code",
      "source": [
        "!pip install scikit-learn pandas nltk textblob\n",
        "\n",
        "import pandas as pd\n",
        "import nltk\n",
        "from nltk.sentiment import SentimentIntensityAnalyzer\n",
        "from textblob import TextBlob\n",
        "from sklearn.model_selection import train_test_split\n",
        "from sklearn.linear_model import LinearRegression\n",
        "from sklearn.metrics import mean_squared_error, r2_score"
      ],
      "metadata": {
        "colab": {
          "base_uri": "https://localhost:8080/"
        },
        "id": "Pq39cVpiTjCR",
        "outputId": "2f6119c3-5495-4677-9b48-11806b07c790"
      },
      "execution_count": null,
      "outputs": [
        {
          "output_type": "stream",
          "name": "stdout",
          "text": [
            "Requirement already satisfied: scikit-learn in /usr/local/lib/python3.10/dist-packages (1.5.2)\n",
            "Requirement already satisfied: pandas in /usr/local/lib/python3.10/dist-packages (2.2.2)\n",
            "Requirement already satisfied: nltk in /usr/local/lib/python3.10/dist-packages (3.8.1)\n",
            "Requirement already satisfied: textblob in /usr/local/lib/python3.10/dist-packages (0.17.1)\n",
            "Requirement already satisfied: numpy>=1.19.5 in /usr/local/lib/python3.10/dist-packages (from scikit-learn) (1.26.4)\n",
            "Requirement already satisfied: scipy>=1.6.0 in /usr/local/lib/python3.10/dist-packages (from scikit-learn) (1.13.1)\n",
            "Requirement already satisfied: joblib>=1.2.0 in /usr/local/lib/python3.10/dist-packages (from scikit-learn) (1.4.2)\n",
            "Requirement already satisfied: threadpoolctl>=3.1.0 in /usr/local/lib/python3.10/dist-packages (from scikit-learn) (3.5.0)\n",
            "Requirement already satisfied: python-dateutil>=2.8.2 in /usr/local/lib/python3.10/dist-packages (from pandas) (2.8.2)\n",
            "Requirement already satisfied: pytz>=2020.1 in /usr/local/lib/python3.10/dist-packages (from pandas) (2024.2)\n",
            "Requirement already satisfied: tzdata>=2022.7 in /usr/local/lib/python3.10/dist-packages (from pandas) (2024.2)\n",
            "Requirement already satisfied: click in /usr/local/lib/python3.10/dist-packages (from nltk) (8.1.7)\n",
            "Requirement already satisfied: regex>=2021.8.3 in /usr/local/lib/python3.10/dist-packages (from nltk) (2024.9.11)\n",
            "Requirement already satisfied: tqdm in /usr/local/lib/python3.10/dist-packages (from nltk) (4.66.5)\n",
            "Requirement already satisfied: six>=1.5 in /usr/local/lib/python3.10/dist-packages (from python-dateutil>=2.8.2->pandas) (1.16.0)\n"
          ]
        }
      ]
    },
    {
      "cell_type": "code",
      "source": [
        "# Check for non-numeric values in the 'Rating - 10' column\n",
        "non_numeric_ratings = df[pd.to_numeric(df['Rating - 10'], errors='coerce').isna()]\n",
        "\n",
        "# Display the non-numeric entries\n",
        "print(\"Non-numeric entries in 'Rating - 10':\")\n",
        "print(non_numeric_ratings)\n",
        "\n",
        "# Display the first few rows of the dataset to understand its structure\n",
        "print(\"\\\n",
        "Sample data:\")\n",
        "print(df.head())"
      ],
      "metadata": {
        "colab": {
          "base_uri": "https://localhost:8080/"
        },
        "id": "9OOA5GxRM0N0",
        "outputId": "d68581a0-a081-49ec-cc6b-b33a68005e1e"
      },
      "execution_count": null,
      "outputs": [
        {
          "output_type": "stream",
          "name": "stdout",
          "text": [
            "Non-numeric entries in 'Rating - 10':\n",
            "     AirLine_Name  Rating - 10                   Title              Name  \\\n",
            "1376       IndiGo          NaN  IndiGo customer review    Pinaki Bhadury   \n",
            "1404       IndiGo          NaN  IndiGo customer review   Devayani Hirani   \n",
            "1429       IndiGo          NaN  IndiGo customer review   Bansal Shailesh   \n",
            "1441       IndiGo          NaN  IndiGo customer review  Kapil Khandelwal   \n",
            "\n",
            "                    Date                                             Review  \\\n",
            "1376  3rd September 2015  6E189 6th June. Low budget Airline - their far...   \n",
            "1404      22nd July 2014  Kept waiting for more then one hour in the pla...   \n",
            "1429    7th October 2013  26 May 2013 Jaipur to Chennai. I saw some dirt...   \n",
            "1441    8th January 2013  I travelled from Bangalore to Jaipur. The leg ...   \n",
            "\n",
            "     Recommond                                   sentiment_scores  \\\n",
            "1376        no  {'neg': 0.073, 'neu': 0.866, 'pos': 0.061, 'co...   \n",
            "1404        no  {'neg': 0.066, 'neu': 0.906, 'pos': 0.028, 'co...   \n",
            "1429        no  {'neg': 0.081, 'neu': 0.878, 'pos': 0.041, 'co...   \n",
            "1441        no  {'neg': 0.092, 'neu': 0.812, 'pos': 0.096, 'co...   \n",
            "\n",
            "      sentiment_compound sentiment_category  \n",
            "1376             -0.6891           Negative  \n",
            "1404             -0.7275           Negative  \n",
            "1429             -0.6486           Negative  \n",
            "1441              0.0534           Positive  \n",
            "Sample data:\n",
            "    AirLine_Name  Rating - 10                          Title  \\\n",
            "0  AirAsia India          6.0          \"crew were welcoming\"   \n",
            "1  AirAsia India          1.0     \"furious and disappointed\"   \n",
            "2  AirAsia India         10.0  \"amazing service and support\"   \n",
            "3  AirAsia India          1.0      \"Waste of time and money\"   \n",
            "4  AirAsia India          8.0   \"thumbs up to boarding crew\"   \n",
            "\n",
            "                     Name               Date  \\\n",
            "0                V Bakshi  14th October 2023   \n",
            "1                 G Oscar  14th October 2023   \n",
            "2             Rahul Verma  14th October 2023   \n",
            "3                 G Akron  14th October 2023   \n",
            "4  Sirajudeen Jawahar ali  14th October 2023   \n",
            "\n",
            "                                              Review Recommond  \\\n",
            "0  ✅ Trip Verified | I had booked this fare at a ...       yes   \n",
            "1  ✅ Trip Verified | I travel at least four times...        no   \n",
            "2  ✅ Trip Verified | Taking this opportunity to a...       yes   \n",
            "3  ✅ Trip Verified | The worst airlines in the hi...        no   \n",
            "4  ✅ Trip Verified |  Would like to give big thum...       yes   \n",
            "\n",
            "                                    sentiment_scores  sentiment_compound  \\\n",
            "0  {'neg': 0.026, 'neu': 0.907, 'pos': 0.067, 'co...              0.7577   \n",
            "1  {'neg': 0.288, 'neu': 0.695, 'pos': 0.017, 'co...             -0.9883   \n",
            "2  {'neg': 0.013, 'neu': 0.7, 'pos': 0.287, 'comp...              0.9932   \n",
            "3  {'neg': 0.317, 'neu': 0.683, 'pos': 0.0, 'comp...             -0.9186   \n",
            "4  {'neg': 0.0, 'neu': 0.961, 'pos': 0.039, 'comp...              0.3612   \n",
            "\n",
            "  sentiment_category  \n",
            "0           Positive  \n",
            "1           Negative  \n",
            "2           Positive  \n",
            "3           Negative  \n",
            "4           Positive  \n"
          ]
        }
      ]
    },
    {
      "cell_type": "code",
      "source": [
        "# Remove non-numeric entries from the 'Rating - 10' column\n",
        "df_cleaned = df[pd.to_numeric(df['Rating - 10'], errors='coerce').notna()]\n",
        "\n",
        "# Convert 'Rating - 10' to numeric\n",
        "df_cleaned['Rating - 10'] = pd.to_numeric(df_cleaned['Rating - 10'])\n",
        "\n",
        "# Verify the cleaning process\n",
        "print(\"Cleaned data sample:\")\n",
        "print(df_cleaned.head())"
      ],
      "metadata": {
        "colab": {
          "base_uri": "https://localhost:8080/"
        },
        "id": "ULTnjcBqM0RD",
        "outputId": "ba18b645-26de-421a-f071-790bee15cb5f"
      },
      "execution_count": null,
      "outputs": [
        {
          "output_type": "stream",
          "name": "stdout",
          "text": [
            "Cleaned data sample:\n",
            "    AirLine_Name  Rating - 10                          Title  \\\n",
            "0  AirAsia India          6.0          \"crew were welcoming\"   \n",
            "1  AirAsia India          1.0     \"furious and disappointed\"   \n",
            "2  AirAsia India         10.0  \"amazing service and support\"   \n",
            "3  AirAsia India          1.0      \"Waste of time and money\"   \n",
            "4  AirAsia India          8.0   \"thumbs up to boarding crew\"   \n",
            "\n",
            "                     Name               Date  \\\n",
            "0                V Bakshi  14th October 2023   \n",
            "1                 G Oscar  14th October 2023   \n",
            "2             Rahul Verma  14th October 2023   \n",
            "3                 G Akron  14th October 2023   \n",
            "4  Sirajudeen Jawahar ali  14th October 2023   \n",
            "\n",
            "                                              Review Recommond  \\\n",
            "0  ✅ Trip Verified | I had booked this fare at a ...       yes   \n",
            "1  ✅ Trip Verified | I travel at least four times...        no   \n",
            "2  ✅ Trip Verified | Taking this opportunity to a...       yes   \n",
            "3  ✅ Trip Verified | The worst airlines in the hi...        no   \n",
            "4  ✅ Trip Verified |  Would like to give big thum...       yes   \n",
            "\n",
            "                                    sentiment_scores  sentiment_compound  \\\n",
            "0  {'neg': 0.026, 'neu': 0.907, 'pos': 0.067, 'co...              0.7577   \n",
            "1  {'neg': 0.288, 'neu': 0.695, 'pos': 0.017, 'co...             -0.9883   \n",
            "2  {'neg': 0.013, 'neu': 0.7, 'pos': 0.287, 'comp...              0.9932   \n",
            "3  {'neg': 0.317, 'neu': 0.683, 'pos': 0.0, 'comp...             -0.9186   \n",
            "4  {'neg': 0.0, 'neu': 0.961, 'pos': 0.039, 'comp...              0.3612   \n",
            "\n",
            "  sentiment_category  \n",
            "0           Positive  \n",
            "1           Negative  \n",
            "2           Positive  \n",
            "3           Negative  \n",
            "4           Positive  \n"
          ]
        },
        {
          "output_type": "stream",
          "name": "stderr",
          "text": [
            "<ipython-input-20-cd489442dfce>:5: SettingWithCopyWarning: \n",
            "A value is trying to be set on a copy of a slice from a DataFrame.\n",
            "Try using .loc[row_indexer,col_indexer] = value instead\n",
            "\n",
            "See the caveats in the documentation: https://pandas.pydata.org/pandas-docs/stable/user_guide/indexing.html#returning-a-view-versus-a-copy\n",
            "  df_cleaned['Rating - 10'] = pd.to_numeric(df_cleaned['Rating - 10'])\n"
          ]
        }
      ]
    },
    {
      "cell_type": "code",
      "source": [
        "def improved_predict_rating_with_sentiment(airline_name, review_text):\n",
        "    # Filter data for the specified airline\n",
        "    airline_data = df_cleaned[df_cleaned['AirLine_Name'] == airline_name]\n",
        "\n",
        "    if airline_data.empty:\n",
        "        return f\"No data found for {airline_name}\"\n",
        "\n",
        "    # Prepare data for prediction model\n",
        "    X = airline_data['Review']\n",
        "    y = airline_data['Rating - 10']\n",
        "\n",
        "    # Use TF-IDF Vectorizer for text data\n",
        "    vectorizer = TfidfVectorizer(max_features=100)\n",
        "    X_tfidf = vectorizer.fit_transform(X)\n",
        "\n",
        "    # Split the data\n",
        "    X_train, X_test, y_train, y_test = train_test_split(X_tfidf, y, test_size=0.2, random_state=42)\n",
        "\n",
        "    # Train the model using RandomForestRegressor\n",
        "    model = make_pipeline(StandardScaler(with_mean=False), RandomForestRegressor(n_estimators=100, random_state=42))\n",
        "    model.fit(X_train, y_train)\n",
        "\n",
        "    # Make prediction for the user input\n",
        "    user_review_tfidf = vectorizer.transform([review_text])\n",
        "    predicted_rating = model.predict(user_review_tfidf)[0]\n",
        "\n",
        "    # Determine sentiment\n",
        "    if predicted_rating > 6.5:\n",
        "        sentiment = \"Positive\"\n",
        "    elif predicted_rating < 4.5:\n",
        "        sentiment = \"Negative\"\n",
        "    else:\n",
        "        sentiment = \"Neutral\"\n",
        "\n",
        "    # Evaluate the model\n",
        "    y_pred = model.predict(X_test)\n",
        "    mse = mean_squared_error(y_test, y_pred)\n",
        "    r2 = r2_score(y_test, y_pred)\n",
        "\n",
        "    return f\"\"\"\n",
        "Predicted Rating for {airline_name}: {predicted_rating:.2f} ({sentiment})\n",
        "Model Performance:\n",
        "- Mean Squared Error: {mse:.4f}\n",
        "- R-squared: {r2:.4f}\n",
        "    \"\"\"\n",
        "\n",
        "# Example usage\n",
        "example_airline = 'IndiGo'\n",
        "example_review =\"huge crowds at the check in counters\"\n",
        "improved_result_with_sentiment = improved_predict_rating_with_sentiment(example_airline, example_review)\n",
        "print(improved_result_with_sentiment)"
      ],
      "metadata": {
        "colab": {
          "base_uri": "https://localhost:8080/"
        },
        "id": "yMO2xyJ2YWfK",
        "outputId": "333a90a7-eb7d-437e-cc00-a9bbf3a138ee"
      },
      "execution_count": null,
      "outputs": [
        {
          "output_type": "stream",
          "name": "stdout",
          "text": [
            "\n",
            "Predicted Rating for IndiGo: 5.63 (Neutral)\n",
            "Model Performance:\n",
            "- Mean Squared Error: 7.4758\n",
            "- R-squared: 0.4161\n",
            "    \n"
          ]
        }
      ]
    }
  ]
}